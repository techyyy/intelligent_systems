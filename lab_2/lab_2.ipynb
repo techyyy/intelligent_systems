{
 "cells": [
  {
   "cell_type": "markdown",
   "id": "a5da8ed0",
   "metadata": {},
   "source": [
    "<h1> Lab 2</h1>\n",
    "<h2> Tasks : 1, 3, 4, 5,\n",
    "10, 12, 16,\n",
    "17, 21 </h2>"
   ]
  },
  {
   "cell_type": "code",
   "execution_count": 2,
   "id": "f1c431aa",
   "metadata": {},
   "outputs": [],
   "source": [
    "import numpy as np\n",
    "import random"
   ]
  },
  {
   "cell_type": "markdown",
   "id": "a4d6fb6b",
   "metadata": {},
   "source": [
    "<h2>Task 1:</h2>"
   ]
  },
  {
   "cell_type": "code",
   "execution_count": 7,
   "id": "2cee68de",
   "metadata": {},
   "outputs": [
    {
     "name": "stdout",
     "output_type": "stream",
     "text": [
      "9.94 µs ± 104 ns per loop (mean ± std. dev. of 7 runs, 100,000 loops each)\n",
      "463 µs ± 3.5 µs per loop (mean ± std. dev. of 7 runs, 1,000 loops each)\n"
     ]
    }
   ],
   "source": [
    "def diagflat_np(n):\n",
    "    arr = np.diagflat(np.arange(n + 1) + 1)\n",
    "    return arr\n",
    "\n",
    "def diagflat_py(n):\n",
    "    arr = [\n",
    "        [i + 1 if i == j else 0 for i in range(n + 1)]\n",
    "        for j in range(n + 1)\n",
    "    ]\n",
    "    return arr\n",
    "\n",
    "%timeit diagflat_np(100)\n",
    "%timeit diagflat_py(100)"
   ]
  },
  {
   "cell_type": "markdown",
   "id": "fa1090db",
   "metadata": {},
   "source": [
    "<h2>Task 3:</h2>"
   ]
  },
  {
   "cell_type": "code",
   "execution_count": 9,
   "id": "5e15d090",
   "metadata": {},
   "outputs": [
    {
     "name": "stdout",
     "output_type": "stream",
     "text": [
      "2.84 µs ± 34.2 ns per loop (mean ± std. dev. of 7 runs, 100,000 loops each)\n",
      "5.24 µs ± 105 ns per loop (mean ± std. dev. of 7 runs, 100,000 loops each)\n"
     ]
    }
   ],
   "source": [
    "def sight_np(n, m, r, c):\n",
    "    x = np.ones((n, m), dtype=int)\n",
    "    x[::r, :] = 0\n",
    "    x[:, ::c] = 0\n",
    "    return x\n",
    "\n",
    "def sight_py(n, m, r, c):\n",
    "    return [[0 if i % r == 0 or j % c == 0 else 1 for j in range(m)] for i in range(n)]\n",
    "\n",
    "%timeit sight_np(6, 7, 2, 3)\n",
    "%timeit sight_py(6, 7, 2, 3)"
   ]
  },
  {
   "cell_type": "code",
   "execution_count": 10,
   "id": "09ed7270",
   "metadata": {},
   "outputs": [
    {
     "name": "stdout",
     "output_type": "stream",
     "text": [
      "5.34 µs ± 90.7 ns per loop (mean ± std. dev. of 7 runs, 100,000 loops each)\n",
      "1.17 µs ± 5.23 ns per loop (mean ± std. dev. of 7 runs, 1,000,000 loops each)\n",
      "2.52 µs ± 50.3 ns per loop (mean ± std. dev. of 7 runs, 100,000 loops each)\n"
     ]
    }
   ],
   "source": [
    "def header_np_vstack(n, m):\n",
    "    x = np.arange(m, dtype=int)\n",
    "    return np.vstack((x, np.zeros((n - 1, m), dtype=int)))\n",
    "\n",
    "def header_np(n, m):\n",
    "    x = np.zeros((n, m), dtype=int)\n",
    "    x[0] = np.arange(m, dtype=int)\n",
    "    return x\n",
    "\n",
    "def header_py(n, m):\n",
    "    return [[j if i == 0 else 0 for j in range(m)] for i in range(n)]\n",
    "\n",
    "%timeit header_np_vstack(5, 4)\n",
    "%timeit header_np(5, 4)\n",
    "%timeit header_py(5, 4)"
   ]
  },
  {
   "cell_type": "markdown",
   "id": "a6cd32ca",
   "metadata": {},
   "source": [
    "<h2>Task 5:</h2>"
   ]
  },
  {
   "cell_type": "code",
   "execution_count": 11,
   "id": "3b8c5a83",
   "metadata": {},
   "outputs": [
    {
     "name": "stdout",
     "output_type": "stream",
     "text": [
      "The slowest run took 4.59 times longer than the fastest. This could mean that an intermediate result is being cached.\n",
      "4.14 µs ± 3.38 µs per loop (mean ± std. dev. of 7 runs, 100 loops each)\n",
      "541 µs ± 13.6 µs per loop (mean ± std. dev. of 7 runs, 100 loops each)\n"
     ]
    }
   ],
   "source": [
    "def zeros_np(n):\n",
    "    arr = np.zeros((n, n), int)\n",
    "    arr[::2] = 1\n",
    "    return arr\n",
    "\n",
    "def zeros_py(n):\n",
    "    arr = [\n",
    "        [(j + 1) % 2 for i in range(n)]\n",
    "        for j in range(n)\n",
    "    ]\n",
    "    return arr\n",
    "\n",
    "%timeit -n 100 zeros_np(100)\n",
    "%timeit -n 100 zeros_py(100)"
   ]
  },
  {
   "cell_type": "markdown",
   "id": "c47eaafe",
   "metadata": {},
   "source": [
    "<h2>Task 10:</h2>"
   ]
  },
  {
   "cell_type": "code",
   "execution_count": 19,
   "id": "db300a38",
   "metadata": {},
   "outputs": [
    {
     "name": "stdout",
     "output_type": "stream",
     "text": [
      "74.8 µs ± 15.2 µs per loop (mean ± std. dev. of 7 runs, 100 loops each)\n",
      "113 µs ± 2.69 µs per loop (mean ± std. dev. of 7 runs, 100 loops each)\n"
     ]
    }
   ],
   "source": [
    "import math\n",
    "\n",
    "def deviation_np(n, m):\n",
    "    matrix = np.random.random((n, m))\n",
    "    minimum = np.min(matrix).round(3)\n",
    "    maximum = np.max(matrix).round(3)\n",
    "    mean = np.mean(matrix).round(3)\n",
    "    std_dev = np.std(matrix).round(3)\n",
    "    return minimum, maximum, mean, std_dev\n",
    "\n",
    "def deviation_py(n, m):\n",
    "    matrix = [[random.uniform(0, 1) for j in range(m)] for i in range(n)]\n",
    "    \n",
    "    minimum = 2\n",
    "    maximum = -1\n",
    "    mean = 0\n",
    "    std_dev = 0\n",
    "    summ = 0\n",
    "    \n",
    "    for i in range(n):\n",
    "        for j in range(m):\n",
    "            if matrix[i][j] < minimum:\n",
    "                minimum = matrix[i][j]\n",
    "            if matrix[i][j] > maximum:\n",
    "                maximum = matrix[i][j]\n",
    "            summ += matrix[i][j]\n",
    "    \n",
    "    mean = summ / (n * m)\n",
    "    \n",
    "    summ = 0\n",
    "    for i in range(n):\n",
    "        for j in range(m):\n",
    "            summ += (matrix[i][j] - mean) ** 2\n",
    "    std_dev = math.sqrt(summ / (n * m))\n",
    "            \n",
    "    return minimum, maximum, mean, std_dev\n",
    "\n",
    "%timeit -n 100 deviation_np(10, 20)\n",
    "%timeit -n 100 deviation_py(10, 20)\n"
   ]
  },
  {
   "cell_type": "markdown",
   "id": "df1bf0d9",
   "metadata": {},
   "source": [
    "<h2>Task 12:</h2>"
   ]
  },
  {
   "cell_type": "code",
   "execution_count": 15,
   "id": "0b9d472a",
   "metadata": {},
   "outputs": [
    {
     "name": "stdout",
     "output_type": "stream",
     "text": [
      "12.5 µs ± 4.33 µs per loop (mean ± std. dev. of 10 runs, 100 loops each)\n",
      "1.13 ms ± 11.5 µs per loop (mean ± std. dev. of 10 runs, 100 loops each)\n"
     ]
    }
   ],
   "source": [
    "def ones_np(n):\n",
    "    matrix = np.ones((n, n), dtype=int)\n",
    "    matrix[[0, n-1]] = matrix[1:n-1, [0, n-1]] = 0\n",
    "    return matrix\n",
    "\n",
    "def ones_py(n):\n",
    "    return [[1 if i>0 and i<n-1 and j>0 and j<n-1 else 0 for i in range(n)] for j in range(n)]\n",
    "\n",
    "%timeit -n 100 -r 10 ones_np(100)\n",
    "%timeit -n 100 -r 10 ones_py(100)"
   ]
  },
  {
   "cell_type": "markdown",
   "id": "ae50f9ca",
   "metadata": {},
   "source": [
    "<h2>Task 16:</h2>"
   ]
  },
  {
   "cell_type": "code",
   "execution_count": 17,
   "id": "86d2fa66",
   "metadata": {},
   "outputs": [
    {
     "name": "stdout",
     "output_type": "stream",
     "text": [
      "6.67 µs ± 2.35 µs per loop (mean ± std. dev. of 7 runs, 100 loops each)\n",
      "17.5 µs ± 2.59 µs per loop (mean ± std. dev. of 7 runs, 100 loops each)\n"
     ]
    }
   ],
   "source": [
    "def vector_np(n):\n",
    "    arr = np.arange(n + 1)\n",
    "    arr[(arr > n / 4) & (arr < 3 * n / 4)] = 0\n",
    "    return arr\n",
    "\n",
    "def vector_py(n):\n",
    "    arr = [0 if i > n / 4 and i < 3 * n / 4 else i for i in range(n + 1)]\n",
    "    return arr\n",
    "\n",
    "%timeit -n 100 vector_np(100)\n",
    "%timeit -n 100 vector_py(100)"
   ]
  },
  {
   "cell_type": "markdown",
   "id": "70c325d4",
   "metadata": {},
   "source": [
    "<h2>Task 17:</h2>"
   ]
  },
  {
   "cell_type": "code",
   "execution_count": 23,
   "id": "9103d827",
   "metadata": {},
   "outputs": [
    {
     "name": "stdout",
     "output_type": "stream",
     "text": [
      "4.19 µs ± 1.02 µs per loop (mean ± std. dev. of 10 runs, 100 loops each)\n",
      "14.8 µs ± 1.58 µs per loop (mean ± std. dev. of 10 runs, 100 loops each)\n"
     ]
    }
   ],
   "source": [
    "def vector_2_np(n):\n",
    "    array = np.arange(n+1)\n",
    "    array[:math.ceil(n/2)] *= -1\n",
    "    array[math.ceil(3*n/4):] *= -1\n",
    "    return array\n",
    "\n",
    "def vector_2_py(n):\n",
    "    return [-i if (i < n/2 or i > 3*n/4) else i for i in range(n + 1)]\n",
    "\n",
    "%timeit -n 100 -r 10 vector_2_np(100)\n",
    "%timeit -n 100 -r 10 vector_2_py(100)"
   ]
  },
  {
   "cell_type": "markdown",
   "id": "5d274050",
   "metadata": {},
   "source": [
    "<h2>Task 21:</h2>"
   ]
  },
  {
   "cell_type": "code",
   "execution_count": 22,
   "id": "aa14e991",
   "metadata": {},
   "outputs": [
    {
     "name": "stdout",
     "output_type": "stream",
     "text": [
      "19.9 µs ± 301 ns per loop (mean ± std. dev. of 7 runs, 100,000 loops each)\n",
      "20.2 µs ± 142 ns per loop (mean ± std. dev. of 7 runs, 10,000 loops each)\n"
     ]
    }
   ],
   "source": [
    "def max_min_opposite_np(n, m):\n",
    "    matrix = np.random.randint(0, m + 1, (n, n))\n",
    "    matrix[matrix == np.max(matrix)] *= -1\n",
    "    return matrix\n",
    "\n",
    "def max_min_opposite_py(n, m):\n",
    "    matrix = [[random.randint(0, m) for _ in range(n)] for _ in range(n)]\n",
    "    max_value = max(map(max, matrix))\n",
    "\n",
    "    for i, row in enumerate(matrix):\n",
    "        for j, item in enumerate(row):\n",
    "            if item == max_value:\n",
    "                matrix[i][j] *= -1\n",
    "    return matrix\n",
    "\n",
    "%timeit max_min_opposite_np(5, 100)\n",
    "%timeit max_min_opposite_py(5, 100)"
   ]
  },
  {
   "cell_type": "code",
   "execution_count": null,
   "id": "06a4d589",
   "metadata": {},
   "outputs": [],
   "source": []
  }
 ],
 "metadata": {
  "kernelspec": {
   "display_name": "Python 3 (ipykernel)",
   "language": "python",
   "name": "python3"
  },
  "language_info": {
   "codemirror_mode": {
    "name": "ipython",
    "version": 3
   },
   "file_extension": ".py",
   "mimetype": "text/x-python",
   "name": "python",
   "nbconvert_exporter": "python",
   "pygments_lexer": "ipython3",
   "version": "3.9.6"
  }
 },
 "nbformat": 4,
 "nbformat_minor": 5
}
